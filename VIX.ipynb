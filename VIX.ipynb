{
  "nbformat": 4,
  "nbformat_minor": 0,
  "metadata": {
    "colab": {
      "provenance": [],
      "authorship_tag": "ABX9TyPA3xRPJI5Tu9K0huG2U7i1",
      "include_colab_link": true
    },
    "kernelspec": {
      "name": "python3",
      "display_name": "Python 3"
    },
    "language_info": {
      "name": "python"
    }
  },
  "cells": [
    {
      "cell_type": "markdown",
      "metadata": {
        "id": "view-in-github",
        "colab_type": "text"
      },
      "source": [
        "<a href=\"https://colab.research.google.com/github/QUANT-CU/.github/blob/main/VIX.ipynb\" target=\"_parent\"><img src=\"https://colab.research.google.com/assets/colab-badge.svg\" alt=\"Open In Colab\"/></a>"
      ]
    },
    {
      "cell_type": "code",
      "execution_count": 1,
      "metadata": {
        "id": "Pfbas3rc_TmK",
        "colab": {
          "base_uri": "https://localhost:8080/"
        },
        "collapsed": true,
        "outputId": "2f160bd0-f71a-47db-f6a9-524e6a4e10bb"
      },
      "outputs": [
        {
          "output_type": "stream",
          "name": "stdout",
          "text": [
            "Requirement already satisfied: yfinance in /usr/local/lib/python3.10/dist-packages (0.2.46)\n",
            "Requirement already satisfied: pandas>=1.3.0 in /usr/local/lib/python3.10/dist-packages (from yfinance) (2.2.2)\n",
            "Requirement already satisfied: numpy>=1.16.5 in /usr/local/lib/python3.10/dist-packages (from yfinance) (1.26.4)\n",
            "Requirement already satisfied: requests>=2.31 in /usr/local/lib/python3.10/dist-packages (from yfinance) (2.32.3)\n",
            "Requirement already satisfied: multitasking>=0.0.7 in /usr/local/lib/python3.10/dist-packages (from yfinance) (0.0.11)\n",
            "Requirement already satisfied: lxml>=4.9.1 in /usr/local/lib/python3.10/dist-packages (from yfinance) (4.9.4)\n",
            "Requirement already satisfied: platformdirs>=2.0.0 in /usr/local/lib/python3.10/dist-packages (from yfinance) (4.3.6)\n",
            "Requirement already satisfied: pytz>=2022.5 in /usr/local/lib/python3.10/dist-packages (from yfinance) (2024.2)\n",
            "Requirement already satisfied: frozendict>=2.3.4 in /usr/local/lib/python3.10/dist-packages (from yfinance) (2.4.6)\n",
            "Requirement already satisfied: peewee>=3.16.2 in /usr/local/lib/python3.10/dist-packages (from yfinance) (3.17.7)\n",
            "Requirement already satisfied: beautifulsoup4>=4.11.1 in /usr/local/lib/python3.10/dist-packages (from yfinance) (4.12.3)\n",
            "Requirement already satisfied: html5lib>=1.1 in /usr/local/lib/python3.10/dist-packages (from yfinance) (1.1)\n",
            "Requirement already satisfied: soupsieve>1.2 in /usr/local/lib/python3.10/dist-packages (from beautifulsoup4>=4.11.1->yfinance) (2.6)\n",
            "Requirement already satisfied: six>=1.9 in /usr/local/lib/python3.10/dist-packages (from html5lib>=1.1->yfinance) (1.16.0)\n",
            "Requirement already satisfied: webencodings in /usr/local/lib/python3.10/dist-packages (from html5lib>=1.1->yfinance) (0.5.1)\n",
            "Requirement already satisfied: python-dateutil>=2.8.2 in /usr/local/lib/python3.10/dist-packages (from pandas>=1.3.0->yfinance) (2.8.2)\n",
            "Requirement already satisfied: tzdata>=2022.7 in /usr/local/lib/python3.10/dist-packages (from pandas>=1.3.0->yfinance) (2024.2)\n",
            "Requirement already satisfied: charset-normalizer<4,>=2 in /usr/local/lib/python3.10/dist-packages (from requests>=2.31->yfinance) (3.4.0)\n",
            "Requirement already satisfied: idna<4,>=2.5 in /usr/local/lib/python3.10/dist-packages (from requests>=2.31->yfinance) (3.10)\n",
            "Requirement already satisfied: urllib3<3,>=1.21.1 in /usr/local/lib/python3.10/dist-packages (from requests>=2.31->yfinance) (2.2.3)\n",
            "Requirement already satisfied: certifi>=2017.4.17 in /usr/local/lib/python3.10/dist-packages (from requests>=2.31->yfinance) (2024.8.30)\n"
          ]
        }
      ],
      "source": [
        "!pip install yfinance"
      ]
    },
    {
      "cell_type": "code",
      "source": [
        "import numpy as np\n",
        "import pandas as pd\n",
        "import yfinance as yf\n",
        "from datetime import timedelta\n",
        "\n",
        "tk = yf.Ticker(\"^SPX\")\n",
        "\n",
        "exps = tk.options\n",
        "\n",
        "options = pd.DataFrame()\n",
        "for e in exps:\n",
        "    opt = tk.option_chain(e)\n",
        "    opt.calls['optionType'] = 'Call'\n",
        "    opt.puts['optionType'] = 'Put'\n",
        "    opt.calls['expirationDate'] = e\n",
        "    opt.puts['expirationDate'] = e\n",
        "\n",
        "    options = pd.concat([options, pd.concat([opt.calls, opt.puts])])\n",
        "options = options.reset_index(drop=True)\n",
        "options['midPrice'] = (options['bid'] + options['ask']) / 2\n",
        "options['expirationDate'] = pd.to_datetime(options['expirationDate'])\n",
        "\n",
        "\n",
        "t0 = pd.to_datetime(opt.underlying['regularMarketTime'] * 1000, unit='ms').normalize()\n",
        "\n",
        "\n",
        "tau = 30\n",
        "\n",
        "t0plustau = t0 + timedelta(tau)\n",
        "\n",
        "\n",
        "wfri = pd.date_range(t0, periods=10, freq='W-FRI')\n",
        "\n",
        "tenor1_idx = np.where(t0plustau > wfri)[0][-1]\n",
        "tenor2_idx = np.where(t0plustau < wfri)[0][0]\n",
        "\n",
        "tenor1 = wfri[tenor1_idx]\n",
        "tenor2 = wfri[tenor2_idx]\n",
        "\n",
        "print(tenor1, tenor2)\n",
        "\n",
        "S0 = opt.underlying['regularMarketPrice']\n",
        "\n",
        "\n",
        "tau1 = (tenor1 - t0).days / 365\n",
        "tau2 = (tenor2 - t0).days / 365\n",
        "\n",
        "r = 0.03\n",
        "F0_tau1 = S0 * np.exp(r * tau1)\n",
        "F0_tau2 = S0 * np.exp(r * tau2)\n",
        "\n",
        "print(S0, F0_tau1, F0_tau2)\n",
        "\n",
        "\n",
        "def vol_from_opt_price(options, tenor ,tau, F0):\n",
        "    opts = options[options['expirationDate'] == tenor]\n",
        "    puts = opts[opts['optionType'] == 'Put']\n",
        "    puts = puts[puts['strike'] < F0]\n",
        "\n",
        "    calls = opts[opts['optionType'] == 'Call']\n",
        "\n",
        "    kgeqf = np.where(calls['strike'] >= F0)[0]\n",
        "    calls = calls.iloc[np.append(kgeqf[0] - 1, kgeqf)]\n",
        "\n",
        "    Ki = puts['strike']\n",
        "    Qi = puts['midPrice']\n",
        "\n",
        "    putsidevol = (Qi * (1 / Ki - 1 / Ki.shift(-1))).sum()\n",
        "    Ki = calls['strike']\n",
        "    Qi = calls['midPrice']\n",
        "\n",
        "    callsidevol = (Qi * (1 / Ki - 1 / Ki.shift(-1))).sum()\n",
        "\n",
        "    return 2 / tau * np.exp(r * tau) * (putsidevol + callsidevol) - 1 / tau * (F0 / calls.iloc[0].strike - 1) ** 2\n",
        "\n",
        "Near_vol = vol_from_opt_price(options, tenor1, tau1, F0_tau1)\n",
        "Nextterm_vol = vol_from_opt_price(options, tenor2, tau2, F0_tau2)\n",
        "\n",
        "tweight1 = (tenor2 - t0plustau).days / (tenor2 - tenor1).days\n",
        "tweight2 = (t0plustau - tenor1).days / (tenor2 - tenor1).days\n",
        "\n",
        "vix = np.sqrt((tau1 * Near_vol * tweight1 + tau2 * Nextterm_vol * tweight2) * 365 / tau) * 100\n",
        "\n",
        "realvix = yf.Ticker(\"^VIX\")\n",
        "data = realvix.history(period=\"1d\")\n",
        "\n",
        "print(f\"The VIX calculated from market option data: {vix:.2f}\")\n",
        "print(f\"The VIX from Yahoo Finance: {data['Close'].iloc[-1]:.2f}\")"
      ],
      "metadata": {
        "colab": {
          "base_uri": "https://localhost:8080/"
        },
        "id": "3mZU5uLN4uj6",
        "outputId": "427efee0-d28b-4f1e-84af-1e714f429a9a"
      },
      "execution_count": 3,
      "outputs": [
        {
          "output_type": "stream",
          "name": "stdout",
          "text": [
            "2024-11-22 00:00:00 2024-11-29 00:00:00\n",
            "5827.54 5839.526708153887 5842.887402531381\n",
            "The VIX calculated from market option data: 19.63\n",
            "The VIX from Yahoo Finance: 19.63\n"
          ]
        }
      ]
    }
  ]
}